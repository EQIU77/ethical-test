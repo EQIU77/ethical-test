{
 "cells": [
  {
   "cell_type": "code",
   "execution_count": 1,
   "id": "72f50529",
   "metadata": {},
   "outputs": [],
   "source": [
    "import sqlite3"
   ]
  },
  {
   "cell_type": "code",
   "execution_count": 2,
   "id": "9b738933",
   "metadata": {},
   "outputs": [],
   "source": [
    "import datetime"
   ]
  },
  {
   "cell_type": "code",
   "execution_count": 3,
   "id": "33c91cd8",
   "metadata": {},
   "outputs": [],
   "source": [
    "conn = sqlite3.connect(\"log.db\")"
   ]
  },
  {
   "cell_type": "code",
   "execution_count": 5,
   "id": "1992f4fc",
   "metadata": {},
   "outputs": [
    {
     "data": {
      "text/plain": [
       "<sqlite3.Cursor at 0x1c744a268c0>"
      ]
     },
     "execution_count": 5,
     "metadata": {},
     "output_type": "execute_result"
    }
   ],
   "source": [
    "conn.execute(\"CREATE TABLE employee (name text, timestamp timestamp)\")"
   ]
  },
  {
   "cell_type": "code",
   "execution_count": null,
   "id": "c154791f",
   "metadata": {},
   "outputs": [],
   "source": [
    "conn.close()"
   ]
  },
  {
   "cell_type": "code",
   "execution_count": 7,
   "id": "cdca4b9e",
   "metadata": {},
   "outputs": [],
   "source": [
    "conn = sqlite3.connect(\"log.db\")"
   ]
  },
  {
   "cell_type": "code",
   "execution_count": 8,
   "id": "cd7ede90",
   "metadata": {},
   "outputs": [],
   "source": [
    "c = conn.execute('select * from employee')"
   ]
  },
  {
   "cell_type": "code",
   "execution_count": 9,
   "id": "a3b752e1",
   "metadata": {},
   "outputs": [
    {
     "data": {
      "text/plain": [
       "(('name', None, None, None, None, None, None),\n",
       " ('timestamp', None, None, None, None, None, None))"
      ]
     },
     "execution_count": 9,
     "metadata": {},
     "output_type": "execute_result"
    }
   ],
   "source": [
    "c.description"
   ]
  },
  {
   "cell_type": "code",
   "execution_count": 10,
   "id": "562d5121",
   "metadata": {},
   "outputs": [
    {
     "data": {
      "text/plain": [
       "<function Cursor.close()>"
      ]
     },
     "execution_count": 10,
     "metadata": {},
     "output_type": "execute_result"
    }
   ],
   "source": [
    "c.close"
   ]
  },
  {
   "cell_type": "code",
   "execution_count": 11,
   "id": "bf6ad429",
   "metadata": {},
   "outputs": [],
   "source": [
    "conn.close()"
   ]
  },
  {
   "cell_type": "code",
   "execution_count": 12,
   "id": "e88c73c3",
   "metadata": {},
   "outputs": [],
   "source": [
    "conn = sqlite3.connect(\"log.db\")"
   ]
  },
  {
   "cell_type": "code",
   "execution_count": 13,
   "id": "8ee12909",
   "metadata": {},
   "outputs": [],
   "source": [
    "c = conn.cursor()"
   ]
  },
  {
   "cell_type": "code",
   "execution_count": 18,
   "id": "3d8c3021",
   "metadata": {},
   "outputs": [],
   "source": [
    "name = \"aa\"\n",
    "timestamp = datetime.datetime.now()\n",
    "c.execute(\"insert into employee (name, timestamp) values(?,?)\",(name, timestamp))\n",
    "conn.commit()"
   ]
  },
  {
   "cell_type": "code",
   "execution_count": 19,
   "id": "451a6944",
   "metadata": {},
   "outputs": [],
   "source": [
    "c.close()\n",
    "conn.close()"
   ]
  },
  {
   "cell_type": "code",
   "execution_count": 20,
   "id": "a5875b42",
   "metadata": {},
   "outputs": [],
   "source": [
    "conn = sqlite3.connect(\"log.db\")\n",
    "c = conn.execute('select * from employee')"
   ]
  },
  {
   "cell_type": "code",
   "execution_count": 21,
   "id": "95e83659",
   "metadata": {},
   "outputs": [
    {
     "name": "stdout",
     "output_type": "stream",
     "text": [
      "('aa', '2024-03-15 20:08:53.730296')\n"
     ]
    }
   ],
   "source": [
    "for row in c:\n",
    "    print(row)"
   ]
  },
  {
   "cell_type": "code",
   "execution_count": null,
   "id": "4ed815f8",
   "metadata": {},
   "outputs": [],
   "source": []
  }
 ],
 "metadata": {
  "kernelspec": {
   "display_name": "Python 3 (ipykernel)",
   "language": "python",
   "name": "python3"
  },
  "language_info": {
   "codemirror_mode": {
    "name": "ipython",
    "version": 3
   },
   "file_extension": ".py",
   "mimetype": "text/x-python",
   "name": "python",
   "nbconvert_exporter": "python",
   "pygments_lexer": "ipython3",
   "version": "3.10.9"
  }
 },
 "nbformat": 4,
 "nbformat_minor": 5
}
